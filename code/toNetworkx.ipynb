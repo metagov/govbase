{
 "cells": [
  {
   "cell_type": "code",
   "execution_count": 1,
   "metadata": {},
   "outputs": [],
   "source": [
    "import numpy as np\n",
    "import pandas as pd\n",
    "import networkx as nx\n",
    "\n",
    "%matplotlib inline"
   ]
  },
  {
   "cell_type": "code",
   "execution_count": 2,
   "metadata": {},
   "outputs": [],
   "source": [
    "import gspread\n",
    "from oauth2client.service_account import ServiceAccountCredentials\n",
    "import pandas as pd\n",
    "\n",
    "scope = ['https://spreadsheets.google.com/feeds',\n",
    "         'https://www.googleapis.com/auth/drive']\n",
    "\n",
    "credentials = ServiceAccountCredentials.from_json_keyfile_name(\n",
    "         'protogovbase-37548e28a642.json', scope) # Your json file here\n",
    "\n",
    "gc = gspread.authorize(credentials)\n",
    "\n",
    "raw = gc.open(\"proto-govbase data\")\n",
    "\n",
    "orgs = raw.get_worksheet(0)\n",
    "tools = raw.get_worksheet(1)"
   ]
  },
  {
   "cell_type": "code",
   "execution_count": 3,
   "metadata": {},
   "outputs": [],
   "source": [
    "data = tools.get_all_values()\n",
    "headers = data.pop(0)\n",
    "types = data.pop(0)\n",
    "\n",
    "df = pd.DataFrame(data, columns=headers)"
   ]
  },
  {
   "cell_type": "code",
   "execution_count": 4,
   "metadata": {},
   "outputs": [
    {
     "data": {
      "text/html": [
       "<div>\n",
       "<style scoped>\n",
       "    .dataframe tbody tr th:only-of-type {\n",
       "        vertical-align: middle;\n",
       "    }\n",
       "\n",
       "    .dataframe tbody tr th {\n",
       "        vertical-align: top;\n",
       "    }\n",
       "\n",
       "    .dataframe thead th {\n",
       "        text-align: right;\n",
       "    }\n",
       "</style>\n",
       "<table border=\"1\" class=\"dataframe\">\n",
       "  <thead>\n",
       "    <tr style=\"text-align: right;\">\n",
       "      <th></th>\n",
       "      <th>id</th>\n",
       "      <th>name</th>\n",
       "      <th>include</th>\n",
       "      <th>owner</th>\n",
       "      <th>dependencies</th>\n",
       "      <th>users</th>\n",
       "      <th>contributors</th>\n",
       "    </tr>\n",
       "  </thead>\n",
       "  <tbody>\n",
       "    <tr>\n",
       "      <th>0</th>\n",
       "      <td>0</td>\n",
       "      <td>cadCAD</td>\n",
       "      <td>TRUE</td>\n",
       "      <td>[0]</td>\n",
       "      <td>[14, 17]</td>\n",
       "      <td>[0, 1, 2, 3, 4, 6, 7, 8]</td>\n",
       "      <td>[0, 4, 7, 8]</td>\n",
       "    </tr>\n",
       "    <tr>\n",
       "      <th>1</th>\n",
       "      <td>1</td>\n",
       "      <td>Discord</td>\n",
       "      <td>TRUE</td>\n",
       "      <td></td>\n",
       "      <td></td>\n",
       "      <td>[0, 1, 2, 8]</td>\n",
       "      <td></td>\n",
       "    </tr>\n",
       "    <tr>\n",
       "      <th>2</th>\n",
       "      <td>2</td>\n",
       "      <td>Discourse</td>\n",
       "      <td>TRUE</td>\n",
       "      <td></td>\n",
       "      <td></td>\n",
       "      <td>[0, 1, 2, 3, 5]</td>\n",
       "      <td></td>\n",
       "    </tr>\n",
       "    <tr>\n",
       "      <th>3</th>\n",
       "      <td>3</td>\n",
       "      <td>Aragon Platform</td>\n",
       "      <td>TRUE</td>\n",
       "      <td>[5]</td>\n",
       "      <td></td>\n",
       "      <td>[1, 3, 5, 6, 7, 8]</td>\n",
       "      <td></td>\n",
       "    </tr>\n",
       "    <tr>\n",
       "      <th>4</th>\n",
       "      <td>4</td>\n",
       "      <td>1Hive Gardens</td>\n",
       "      <td>TRUE</td>\n",
       "      <td>[3]</td>\n",
       "      <td></td>\n",
       "      <td>[3]</td>\n",
       "      <td></td>\n",
       "    </tr>\n",
       "    <tr>\n",
       "      <th>7</th>\n",
       "      <td>7</td>\n",
       "      <td>Conviction Voting</td>\n",
       "      <td>TRUE</td>\n",
       "      <td></td>\n",
       "      <td>[3]</td>\n",
       "      <td>[3, 4, 7]</td>\n",
       "      <td>[4, 6, 7]</td>\n",
       "    </tr>\n",
       "    <tr>\n",
       "      <th>8</th>\n",
       "      <td>8</td>\n",
       "      <td>SourceCred</td>\n",
       "      <td>TRUE</td>\n",
       "      <td>[2]</td>\n",
       "      <td>[9, 1, 2]</td>\n",
       "      <td>[0, 1, 2, 4, 8]</td>\n",
       "      <td></td>\n",
       "    </tr>\n",
       "    <tr>\n",
       "      <th>9</th>\n",
       "      <td>9</td>\n",
       "      <td>GitHub</td>\n",
       "      <td>TRUE</td>\n",
       "      <td></td>\n",
       "      <td></td>\n",
       "      <td>[0, 1, 2, 3, 4, 5, 6, 7]</td>\n",
       "      <td></td>\n",
       "    </tr>\n",
       "    <tr>\n",
       "      <th>14</th>\n",
       "      <td>14</td>\n",
       "      <td>numpy (tool)</td>\n",
       "      <td>TRUE</td>\n",
       "      <td></td>\n",
       "      <td>[17]</td>\n",
       "      <td>[0,4]</td>\n",
       "      <td>[13, 14]</td>\n",
       "    </tr>\n",
       "    <tr>\n",
       "      <th>16</th>\n",
       "      <td>17</td>\n",
       "      <td>python</td>\n",
       "      <td>TRUE</td>\n",
       "      <td></td>\n",
       "      <td></td>\n",
       "      <td>[0,4]</td>\n",
       "      <td>[14]</td>\n",
       "    </tr>\n",
       "    <tr>\n",
       "      <th>17</th>\n",
       "      <td>18</td>\n",
       "      <td>jupyter</td>\n",
       "      <td>TRUE</td>\n",
       "      <td></td>\n",
       "      <td></td>\n",
       "      <td>[0, 4]</td>\n",
       "      <td>[14]</td>\n",
       "    </tr>\n",
       "    <tr>\n",
       "      <th>18</th>\n",
       "      <td>19</td>\n",
       "      <td>CommunityRule</td>\n",
       "      <td>TRUE</td>\n",
       "      <td></td>\n",
       "      <td></td>\n",
       "      <td>[0]</td>\n",
       "      <td></td>\n",
       "    </tr>\n",
       "    <tr>\n",
       "      <th>19</th>\n",
       "      <td>20</td>\n",
       "      <td>Dandelion</td>\n",
       "      <td>TRUE</td>\n",
       "      <td></td>\n",
       "      <td>[3]</td>\n",
       "      <td>[3, 6]</td>\n",
       "      <td>[3, 6]</td>\n",
       "    </tr>\n",
       "  </tbody>\n",
       "</table>\n",
       "</div>"
      ],
      "text/plain": [
       "    id               name include owner dependencies  \\\n",
       "0    0             cadCAD    TRUE   [0]     [14, 17]   \n",
       "1    1            Discord    TRUE                      \n",
       "2    2          Discourse    TRUE                      \n",
       "3    3    Aragon Platform    TRUE   [5]                \n",
       "4    4      1Hive Gardens    TRUE   [3]                \n",
       "7    7  Conviction Voting    TRUE                [3]   \n",
       "8    8         SourceCred    TRUE   [2]    [9, 1, 2]   \n",
       "9    9             GitHub    TRUE                      \n",
       "14  14       numpy (tool)    TRUE               [17]   \n",
       "16  17             python    TRUE                      \n",
       "17  18            jupyter    TRUE                      \n",
       "18  19      CommunityRule    TRUE                      \n",
       "19  20          Dandelion    TRUE                [3]   \n",
       "\n",
       "                       users  contributors  \n",
       "0   [0, 1, 2, 3, 4, 6, 7, 8]  [0, 4, 7, 8]  \n",
       "1               [0, 1, 2, 8]                \n",
       "2            [0, 1, 2, 3, 5]                \n",
       "3         [1, 3, 5, 6, 7, 8]                \n",
       "4                        [3]                \n",
       "7                  [3, 4, 7]     [4, 6, 7]  \n",
       "8            [0, 1, 2, 4, 8]                \n",
       "9   [0, 1, 2, 3, 4, 5, 6, 7]                \n",
       "14                     [0,4]      [13, 14]  \n",
       "16                     [0,4]          [14]  \n",
       "17                    [0, 4]          [14]  \n",
       "18                       [0]                \n",
       "19                    [3, 6]        [3, 6]  "
      ]
     },
     "execution_count": 4,
     "metadata": {},
     "output_type": "execute_result"
    }
   ],
   "source": [
    "df[df.include=='TRUE']"
   ]
  },
  {
   "cell_type": "code",
   "execution_count": 5,
   "metadata": {},
   "outputs": [],
   "source": [
    "o_data = orgs.get_all_values()\n",
    "o_headers = o_data.pop(0)\n",
    "o_types = o_data.pop(0)\n",
    "\n",
    "odf = pd.DataFrame(o_data, columns=o_headers)"
   ]
  },
  {
   "cell_type": "code",
   "execution_count": 6,
   "metadata": {},
   "outputs": [
    {
     "data": {
      "text/html": [
       "<div>\n",
       "<style scoped>\n",
       "    .dataframe tbody tr th:only-of-type {\n",
       "        vertical-align: middle;\n",
       "    }\n",
       "\n",
       "    .dataframe tbody tr th {\n",
       "        vertical-align: top;\n",
       "    }\n",
       "\n",
       "    .dataframe thead th {\n",
       "        text-align: right;\n",
       "    }\n",
       "</style>\n",
       "<table border=\"1\" class=\"dataframe\">\n",
       "  <thead>\n",
       "    <tr style=\"text-align: right;\">\n",
       "      <th></th>\n",
       "      <th>id</th>\n",
       "      <th>name</th>\n",
       "      <th>include</th>\n",
       "      <th>scale (approx members)</th>\n",
       "      <th>tools used</th>\n",
       "    </tr>\n",
       "  </thead>\n",
       "  <tbody>\n",
       "    <tr>\n",
       "      <th>0</th>\n",
       "      <td>0</td>\n",
       "      <td>cadCAD (org)</td>\n",
       "      <td>TRUE</td>\n",
       "      <td></td>\n",
       "      <td></td>\n",
       "    </tr>\n",
       "    <tr>\n",
       "      <th>1</th>\n",
       "      <td>1</td>\n",
       "      <td>Metagame</td>\n",
       "      <td>TRUE</td>\n",
       "      <td></td>\n",
       "      <td></td>\n",
       "    </tr>\n",
       "    <tr>\n",
       "      <th>2</th>\n",
       "      <td>2</td>\n",
       "      <td>SourceCred (org)</td>\n",
       "      <td>TRUE</td>\n",
       "      <td></td>\n",
       "      <td></td>\n",
       "    </tr>\n",
       "    <tr>\n",
       "      <th>3</th>\n",
       "      <td>3</td>\n",
       "      <td>1Hive</td>\n",
       "      <td>TRUE</td>\n",
       "      <td></td>\n",
       "      <td></td>\n",
       "    </tr>\n",
       "    <tr>\n",
       "      <th>4</th>\n",
       "      <td>4</td>\n",
       "      <td>BlockScience</td>\n",
       "      <td>TRUE</td>\n",
       "      <td></td>\n",
       "      <td></td>\n",
       "    </tr>\n",
       "    <tr>\n",
       "      <th>6</th>\n",
       "      <td>6</td>\n",
       "      <td>Aragon Association</td>\n",
       "      <td>TRUE</td>\n",
       "      <td></td>\n",
       "      <td></td>\n",
       "    </tr>\n",
       "    <tr>\n",
       "      <th>7</th>\n",
       "      <td>7</td>\n",
       "      <td>Commons Stack</td>\n",
       "      <td>TRUE</td>\n",
       "      <td></td>\n",
       "      <td></td>\n",
       "    </tr>\n",
       "    <tr>\n",
       "      <th>8</th>\n",
       "      <td>8</td>\n",
       "      <td>TokenEngineering Community</td>\n",
       "      <td>TRUE</td>\n",
       "      <td></td>\n",
       "      <td></td>\n",
       "    </tr>\n",
       "    <tr>\n",
       "      <th>13</th>\n",
       "      <td>13</td>\n",
       "      <td>numpy (org)</td>\n",
       "      <td>TRUE</td>\n",
       "      <td></td>\n",
       "      <td></td>\n",
       "    </tr>\n",
       "    <tr>\n",
       "      <th>14</th>\n",
       "      <td>14</td>\n",
       "      <td>numfocus (org)</td>\n",
       "      <td>TRUE</td>\n",
       "      <td></td>\n",
       "      <td></td>\n",
       "    </tr>\n",
       "  </tbody>\n",
       "</table>\n",
       "</div>"
      ],
      "text/plain": [
       "    id                        name include scale (approx members) tools used\n",
       "0    0                cadCAD (org)    TRUE                                  \n",
       "1    1                    Metagame    TRUE                                  \n",
       "2    2            SourceCred (org)    TRUE                                  \n",
       "3    3                       1Hive    TRUE                                  \n",
       "4    4                BlockScience    TRUE                                  \n",
       "6    6          Aragon Association    TRUE                                  \n",
       "7    7               Commons Stack    TRUE                                  \n",
       "8    8  TokenEngineering Community    TRUE                                  \n",
       "13  13                 numpy (org)    TRUE                                  \n",
       "14  14              numfocus (org)    TRUE                                  "
      ]
     },
     "execution_count": 6,
     "metadata": {},
     "output_type": "execute_result"
    }
   ],
   "source": [
    "odf[odf.include=='TRUE']"
   ]
  },
  {
   "cell_type": "code",
   "execution_count": 7,
   "metadata": {},
   "outputs": [],
   "source": [
    "od = odf[odf.include=='TRUE'].values"
   ]
  },
  {
   "cell_type": "code",
   "execution_count": 8,
   "metadata": {},
   "outputs": [
    {
     "data": {
      "text/plain": [
       "array(['0', 'cadCAD (org)', 'TRUE', '', ''], dtype=object)"
      ]
     },
     "execution_count": 8,
     "metadata": {},
     "output_type": "execute_result"
    }
   ],
   "source": [
    "od[0]"
   ]
  },
  {
   "cell_type": "code",
   "execution_count": 9,
   "metadata": {},
   "outputs": [],
   "source": [
    "G = nx.DiGraph()"
   ]
  },
  {
   "cell_type": "code",
   "execution_count": 10,
   "metadata": {},
   "outputs": [],
   "source": [
    "def add_org(g, r):\n",
    "    nids = [n for n in g.nodes]\n",
    "    if nids == []:\n",
    "        nid = 0\n",
    "    else:\n",
    "        nid = max(nids)+1\n",
    "    g.add_node(nid)\n",
    "    \n",
    "    g.nodes[nid]['type']='org'\n",
    "    g.nodes[nid]['oid'] = int(r[0])\n",
    "    g.nodes[nid]['name'] = r[1]\n",
    "    g.nodes[nid]['size'] = r[3]"
   ]
  },
  {
   "cell_type": "code",
   "execution_count": 11,
   "metadata": {},
   "outputs": [],
   "source": [
    "def add_orgs(g, R):\n",
    "    for r in R:\n",
    "        add_org(g, r)"
   ]
  },
  {
   "cell_type": "code",
   "execution_count": 12,
   "metadata": {},
   "outputs": [],
   "source": [
    "def get_nodes_by_type(g, node_type_selection):\n",
    "\n",
    "    return [node for node in g.nodes if g.nodes[node]['type']== node_type_selection ]"
   ]
  },
  {
   "cell_type": "code",
   "execution_count": 13,
   "metadata": {},
   "outputs": [],
   "source": [
    "def get_org_node_by_oid(g, oid):\n",
    "    onids = get_nodes_by_type(g, 'org')\n",
    "    go = True\n",
    "    for nid in onids:\n",
    "        if go:\n",
    "            val = g.nodes[nid]['oid']\n",
    "            if val == oid:\n",
    "                go = False\n",
    "                return val\n",
    "    \n",
    "    return None"
   ]
  },
  {
   "cell_type": "code",
   "execution_count": null,
   "metadata": {},
   "outputs": [],
   "source": []
  },
  {
   "cell_type": "code",
   "execution_count": 14,
   "metadata": {},
   "outputs": [],
   "source": [
    "add_orgs(G,od)"
   ]
  },
  {
   "cell_type": "code",
   "execution_count": 15,
   "metadata": {},
   "outputs": [],
   "source": [
    "get_org_node_by_oid(G, 5)"
   ]
  },
  {
   "cell_type": "code",
   "execution_count": 16,
   "metadata": {},
   "outputs": [
    {
     "data": {
      "text/plain": [
       "NodeView((0, 1, 2, 3, 4, 5, 6, 7, 8, 9))"
      ]
     },
     "execution_count": 16,
     "metadata": {},
     "output_type": "execute_result"
    }
   ],
   "source": [
    "G.nodes"
   ]
  },
  {
   "cell_type": "code",
   "execution_count": 17,
   "metadata": {},
   "outputs": [],
   "source": [
    "def add_tool(g, r):\n",
    "    nids = [n for n in g.nodes]\n",
    "    if nids == []:\n",
    "        nid = 0\n",
    "    else:\n",
    "        nid = max(nids)+1\n",
    "    g.add_node(nid)\n",
    "    \n",
    "    g.nodes[nid]['type']='tool'\n",
    "    g.nodes[nid]['tid'] = int(r[0])\n",
    "    g.nodes[nid]['name'] = r[1]\n",
    "    \n",
    "    try:\n",
    "        owner_id = int(r[3][0])\n",
    "        g.nodes[nid]['owner'] = get_org_node_by_oid(G, owner_id)\n",
    "    except:\n",
    "        g.nodes[nid]['owner'] = None"
   ]
  },
  {
   "cell_type": "code",
   "execution_count": 18,
   "metadata": {},
   "outputs": [],
   "source": [
    "td = df[df.include=='TRUE'].values"
   ]
  },
  {
   "cell_type": "code",
   "execution_count": 19,
   "metadata": {},
   "outputs": [
    {
     "data": {
      "text/plain": [
       "array(['0', 'cadCAD', 'TRUE', '[0]', '[14, 17]',\n",
       "       '[0, 1, 2, 3, 4, 6, 7, 8]', '[0, 4, 7, 8]'], dtype=object)"
      ]
     },
     "execution_count": 19,
     "metadata": {},
     "output_type": "execute_result"
    }
   ],
   "source": [
    "td[0]"
   ]
  },
  {
   "cell_type": "code",
   "execution_count": 20,
   "metadata": {},
   "outputs": [],
   "source": [
    "def add_tools(g, R):\n",
    "    for r in R:\n",
    "        add_tool(g, r)"
   ]
  },
  {
   "cell_type": "code",
   "execution_count": 21,
   "metadata": {},
   "outputs": [],
   "source": [
    "add_tools(G,td)"
   ]
  },
  {
   "cell_type": "code",
   "execution_count": 22,
   "metadata": {},
   "outputs": [
    {
     "data": {
      "text/plain": [
       "NodeView((0, 1, 2, 3, 4, 5, 6, 7, 8, 9, 10, 11, 12, 13, 14, 15, 16, 17, 18, 19, 20, 21, 22))"
      ]
     },
     "execution_count": 22,
     "metadata": {},
     "output_type": "execute_result"
    }
   ],
   "source": [
    "G.nodes"
   ]
  },
  {
   "cell_type": "code",
   "execution_count": 23,
   "metadata": {},
   "outputs": [],
   "source": [
    "def str2list(x):\n",
    "    if len(x)>0:\n",
    "        import ast\n",
    "        l = ast.literal_eval(x)\n",
    "        return l\n",
    "    else:\n",
    "        return []"
   ]
  },
  {
   "cell_type": "code",
   "execution_count": 24,
   "metadata": {},
   "outputs": [],
   "source": [
    "def add_edges(g, R):\n",
    "    #node ids for orgs\n",
    "    o_nodes = get_nodes_by_type(g, 'org')\n",
    "    \n",
    "    #maps the nodes oid to their node id\n",
    "    oids = { g.nodes[n]['oid']:n for n in o_nodes }\n",
    "    \n",
    "    t_nodes = get_nodes_by_type(g, 'tool')\n",
    "    tids = { g.nodes[n]['tid']:n for n in t_nodes }\n",
    "\n",
    "    for r in R:\n",
    "        tid = int(r[0])\n",
    "        tnid = tids[tid]\n",
    "        #add user edges\n",
    "        users = str2list(r[5])\n",
    "        #user edges go from tool to org\n",
    "        for u in users:\n",
    "            try:\n",
    "                unid = oids[u]\n",
    "                g.add_edge(tnid,unid)\n",
    "                g.edges[tnid,unid]['type'] = 'user'\n",
    "            except:\n",
    "                str(u)\n",
    "        \n",
    "        #contributor edges\n",
    "        contributors = str2list(r[6])\n",
    "        #contributor edges go from tools to orgs\n",
    "        for c in contributors:\n",
    "            try:\n",
    "                cnid = oids[c]\n",
    "                g.add_edge(cnid,tnid)\n",
    "                g.edges[cnid,tnid]['type'] = 'contributor'\n",
    "            except:\n",
    "                str(c)\n",
    "    \n",
    "    \n",
    "        #dependency edges\n",
    "        dependencies = str2list(r[4])\n",
    "        #dependency edges go from tools to tools\n",
    "        for d in dependencies:\n",
    "            try:\n",
    "                dnid = tids[d]\n",
    "                g.add_edge(tnid,dnid)\n",
    "                g.edges[tnid,dnid]['type'] = 'dependencies'\n",
    "            except:\n",
    "                str(d)\n",
    "            \n"
   ]
  },
  {
   "cell_type": "code",
   "execution_count": 25,
   "metadata": {},
   "outputs": [],
   "source": [
    "add_edges(G, td)"
   ]
  },
  {
   "cell_type": "code",
   "execution_count": 26,
   "metadata": {},
   "outputs": [
    {
     "data": {
      "image/png": "[encoded data removed]",
      "text/plain": [
       "<Figure size 432x288 with 1 Axes>"
      ]
     },
     "metadata": {},
     "output_type": "display_data"
    }
   ],
   "source": [
    "nx.draw_kamada_kawai(G)"
   ]
  },
  {
   "cell_type": "code",
   "execution_count": null,
   "metadata": {},
   "outputs": [],
   "source": []
  }
 ],
 "metadata": {
  "kernelspec": {
   "display_name": "Python 3",
   "language": "python",
   "name": "python3"
  },
  "language_info": {
   "codemirror_mode": {
    "name": "ipython",
    "version": 3
   },
   "file_extension": ".py",
   "mimetype": "text/x-python",
   "name": "python",
   "nbconvert_exporter": "python",
   "pygments_lexer": "ipython3",
   "version": "3.6.8"
  }
 },
 "nbformat": 4,
 "nbformat_minor": 2
}
